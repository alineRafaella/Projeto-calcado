{
 "cells": [
  {
   "cell_type": "markdown",
   "metadata": {},
   "source": [
    "Projeto Vendas de calçados\n",
    "\n",
    "Objetivo: \n",
    "Identificar cores e modelos mais vendidos; variedade de preços e os vendedores com mais comentários."
   ]
  },
  {
   "cell_type": "code",
   "execution_count": null,
   "metadata": {},
   "outputs": [
    {
     "ename": "",
     "evalue": "",
     "output_type": "error",
     "traceback": [
      "\u001b[1;31mFalha ao iniciar o Kernel. \n",
      "\u001b[1;31mNão é possível iniciar o Kernel \"Python 3.12.2\" devido a um tempo limite aguardando as portas serem usadas. \n",
      "\u001b[1;31mConsulte o <a href='command:jupyter.viewOutput'>log</a> do Jupyter para obter mais detalhes."
     ]
    }
   ],
   "source": [
    "# Importando bibliotecas para manipular os dados\n",
    "import pandas as pd\n",
    "import numpy as np"
   ]
  },
  {
   "cell_type": "code",
   "execution_count": 2,
   "metadata": {},
   "outputs": [
    {
     "data": {
      "text/html": [
       "<div>\n",
       "<style scoped>\n",
       "    .dataframe tbody tr th:only-of-type {\n",
       "        vertical-align: middle;\n",
       "    }\n",
       "\n",
       "    .dataframe tbody tr th {\n",
       "        vertical-align: top;\n",
       "    }\n",
       "\n",
       "    .dataframe thead th {\n",
       "        text-align: right;\n",
       "    }\n",
       "</style>\n",
       "<table border=\"1\" class=\"dataframe\">\n",
       "  <thead>\n",
       "    <tr style=\"text-align: right;\">\n",
       "      <th></th>\n",
       "      <th>name</th>\n",
       "      <th>link</th>\n",
       "      <th>price_usd</th>\n",
       "      <th>mark_price_usd</th>\n",
       "      <th>star_rating</th>\n",
       "      <th>colour</th>\n",
       "      <th>seller_name</th>\n",
       "      <th>review_count</th>\n",
       "      <th>sku_id</th>\n",
       "      <th>hero_image</th>\n",
       "    </tr>\n",
       "  </thead>\n",
       "  <tbody>\n",
       "    <tr>\n",
       "      <th>0</th>\n",
       "      <td>Women's Casual Sports Shoes, Fashionable Versa...</td>\n",
       "      <td>https://us.shein.com/Women-s-Casual-Sports-Sho...</td>\n",
       "      <td>$19.40</td>\n",
       "      <td>$24.40</td>\n",
       "      <td>4.83</td>\n",
       "      <td>: Khaki</td>\n",
       "      <td>Womens Shoes</td>\n",
       "      <td>(77 Reviews)</td>\n",
       "      <td>SKU: sx2305270713671620</td>\n",
       "      <td>//img.ltwebstatic.com/images3_spmp/2023/12/19/...</td>\n",
       "    </tr>\n",
       "    <tr>\n",
       "      <th>1</th>\n",
       "      <td>2024 New Spring/Autumn Women Breathable Mesh H...</td>\n",
       "      <td>https://us.shein.com/2024-New-Spring-Autumn-Wo...</td>\n",
       "      <td>$14.90</td>\n",
       "      <td>$18.80</td>\n",
       "      <td>0.00</td>\n",
       "      <td>NaN</td>\n",
       "      <td>Limeiya Factory</td>\n",
       "      <td>NaN</td>\n",
       "      <td>SKU: sx2404088145930048</td>\n",
       "      <td>//img.ltwebstatic.com/images3_pi/2024/04/17/55...</td>\n",
       "    </tr>\n",
       "  </tbody>\n",
       "</table>\n",
       "</div>"
      ],
      "text/plain": [
       "                                                name  \\\n",
       "0  Women's Casual Sports Shoes, Fashionable Versa...   \n",
       "1  2024 New Spring/Autumn Women Breathable Mesh H...   \n",
       "\n",
       "                                                link price_usd mark_price_usd  \\\n",
       "0  https://us.shein.com/Women-s-Casual-Sports-Sho...    $19.40         $24.40   \n",
       "1  https://us.shein.com/2024-New-Spring-Autumn-Wo...    $14.90         $18.80   \n",
       "\n",
       "   star_rating   colour      seller_name  review_count  \\\n",
       "0         4.83  : Khaki     Womens Shoes  (77 Reviews)   \n",
       "1         0.00      NaN  Limeiya Factory           NaN   \n",
       "\n",
       "                    sku_id                                         hero_image  \n",
       "0  SKU: sx2305270713671620  //img.ltwebstatic.com/images3_spmp/2023/12/19/...  \n",
       "1  SKU: sx2404088145930048  //img.ltwebstatic.com/images3_pi/2024/04/17/55...  "
      ]
     },
     "execution_count": 2,
     "metadata": {},
     "output_type": "execute_result"
    }
   ],
   "source": [
    "# Importando base de dados\n",
    "df = pd.read_csv(r'C:\\\\Users\\\\Usuário\\Downloads\\\\archive (8)\\\\shein_footwear.csv', sep=',', encoding='latin-1')\n",
    "df.head(2)"
   ]
  },
  {
   "cell_type": "markdown",
   "metadata": {},
   "source": [
    "Analisando e modelando os dados"
   ]
  },
  {
   "cell_type": "code",
   "execution_count": 3,
   "metadata": {},
   "outputs": [
    {
     "data": {
      "text/plain": [
       "(1170, 10)"
      ]
     },
     "execution_count": 3,
     "metadata": {},
     "output_type": "execute_result"
    }
   ],
   "source": [
    "# Total de linhas e colunas\n",
    "df.shape"
   ]
  },
  {
   "cell_type": "code",
   "execution_count": 4,
   "metadata": {},
   "outputs": [
    {
     "data": {
      "text/plain": [
       "name              1170\n",
       "link              1170\n",
       "price_usd          930\n",
       "mark_price_usd     877\n",
       "star_rating       1170\n",
       "colour             923\n",
       "seller_name          9\n",
       "review_count      1075\n",
       "sku_id            1170\n",
       "hero_image        1170\n",
       "dtype: int64"
      ]
     },
     "execution_count": 4,
     "metadata": {},
     "output_type": "execute_result"
    }
   ],
   "source": [
    "# Verificando e removendo duplicatas\n",
    "df.drop_duplicates().count()"
   ]
  },
  {
   "cell_type": "code",
   "execution_count": 5,
   "metadata": {},
   "outputs": [],
   "source": [
    "# Salvando \"df.drop_duplicates\"\n",
    "df.drop_duplicates(inplace=True)"
   ]
  },
  {
   "cell_type": "code",
   "execution_count": 6,
   "metadata": {},
   "outputs": [
    {
     "data": {
      "text/plain": [
       "Index(['name', 'link', 'price_usd', 'mark_price_usd', 'star_rating', 'colour',\n",
       "       'seller_name', 'review_count', 'sku_id', 'hero_image'],\n",
       "      dtype='object')"
      ]
     },
     "execution_count": 6,
     "metadata": {},
     "output_type": "execute_result"
    }
   ],
   "source": [
    "# Nome das colunas\n",
    "df.columns"
   ]
  },
  {
   "cell_type": "code",
   "execution_count": 7,
   "metadata": {},
   "outputs": [
    {
     "data": {
      "text/plain": [
       "Index(['descrição calçado', 'link', 'preço', 'preço de marca', 'classificacao',\n",
       "       'cor', 'vendedor', 'comentários', 'sku id', 'imagem heroi'],\n",
       "      dtype='object')"
      ]
     },
     "execution_count": 7,
     "metadata": {},
     "output_type": "execute_result"
    }
   ],
   "source": [
    "# Renomeando as colunas\n",
    "df.columns=['descrição calçado', 'link','preço','preço de marca', 'classificacao','cor','vendedor','comentários','sku id','imagem heroi']\n",
    "df.columns"
   ]
  },
  {
   "cell_type": "code",
   "execution_count": 8,
   "metadata": {},
   "outputs": [
    {
     "data": {
      "text/plain": [
       "descrição calçado       0\n",
       "link                    0\n",
       "preço                 240\n",
       "preço de marca        293\n",
       "classificacao           0\n",
       "cor                   247\n",
       "vendedor             1161\n",
       "comentários            95\n",
       "sku id                  0\n",
       "imagem heroi            0\n",
       "dtype: int64"
      ]
     },
     "execution_count": 8,
     "metadata": {},
     "output_type": "execute_result"
    }
   ],
   "source": [
    "# Verificando valores faltantes\n",
    "df.isnull().sum()"
   ]
  },
  {
   "cell_type": "code",
   "execution_count": null,
   "metadata": {},
   "outputs": [
    {
     "data": {
      "text/plain": [
       "array(['$19.40', '$14.90', '$7.50', '$12.06', '$13.53', '$21.30',\n",
       "       '$16.90', '$22.90', '$13.00', nan, '$9.30', '$21.00', '$20.80',\n",
       "       '$8.50', '$14.30', '$19.70', '$10.30', '$16.00', '$14.80',\n",
       "       '$13.70', '$11.10', '$15.81', '$14.08', '$17.82', '$24.10',\n",
       "       '$13.20', '$23.10', '$10.50', '$15.60', '$7.30', '$25.10',\n",
       "       '$23.30', '$15.20', '$13.09', '$16.50', '$14.50', '$20.30',\n",
       "       '$21.40', '$6.13', '$24.20', '$20.90', '$15.70', '$17.50',\n",
       "       '$19.90', '$16.40', '$35.99', '$14.70', '$12.50', '$14.40',\n",
       "       '$12.25', '$26.30', '$13.40', '$14.10', '$13.80', '$19.00',\n",
       "       '$12.26', '$18.82', '$48.80', '$18.59', '$10.80', '$9.48',\n",
       "       '$10.68', '$32.99', '$15.80', '$11.20', '$17.00', '$18.15',\n",
       "       '$14.96', '$17.30', '$13.90', '$12.98', '$23.65', 'From', '$17.10',\n",
       "       '$12.80', '$17.38', '$10.78', '$20.50', '$11.04', '$13.86',\n",
       "       '$16.80', '$14.52', '$16.20', '$22.50', '$11.90', '$12.40',\n",
       "       '$10.32', '$23.00', '$22.44', '$39.99', '$18.60', '$24.00',\n",
       "       '$18.80', '$16.94', '$25.30', '$29.20', '$16.25', '$18.70',\n",
       "       '$18.30', '$15.30', '$15.51', '$22.22', '$231.32', '$26.74',\n",
       "       '$20.70', '$23.70', '$20.79', '$9.96', '$16.60', '$12.12',\n",
       "       '$20.68', '$19.20', '$12.30', '$23.60', '$12.70', '$23.80',\n",
       "       '$19.99', '$10.75', '$26.40', '$19.47', '$18.37', '$16.70',\n",
       "       '$28.20', '$15.40', '$21.50', '$20.91', '$19.30', '$16.83',\n",
       "       '$15.95', '$22.70', '$20.20', '$15.10', '$21.01', '$17.93',\n",
       "       '$17.63', '$17.55', '$19.78', '$21.60', '$19.36', '$31.99',\n",
       "       '$11.28', '$18.90', '$37.69', '$22.10', '$26.51', '$14.99',\n",
       "       '$18.81', '$17.90', '$22.33', '$18.20', '$119.90', '$7.00',\n",
       "       '$29.99', '$6.60', '$22.60', '$18.25', '$16.99', '$23.90',\n",
       "       '$200.19', '$10.00', '$169.68', '$28.99', '$19.50', '$47.70',\n",
       "       '$16.06', '$19.80', '$16.30', '$36.00', '$33.99', '$69.40',\n",
       "       '$21.67', '$22.00', '$17.60', '$27.90', '$18.00', '$39.40',\n",
       "       '$37.00', '$21.20', '$24.40', '$32.00', '$36.30', '$45.00',\n",
       "       '$34.80', '$22.30', '$22.80', '$10.40', '$25.50', '$12.00',\n",
       "       '$247.50', '$15.25', '$10.20', '$12.60', '$12.05', '$14.00',\n",
       "       '$11.45', '$15.00', '$12.90', '$12.10', '$16.39', '$8.97',\n",
       "       '$10.60', '$8.40', '$19.95', '$11.30', '$15.90', '$34.00',\n",
       "       '$18.10', '$51.80', '$8.71', '$25.60', '$27.00', '$11.55',\n",
       "       '$13.60', '$18.66', '$14.25', '$20.40', '$25.70', '$16.82',\n",
       "       '$4.85', '$24.30', '$13.10', '$18.24', '$20.00', '$8.90', '$39.00',\n",
       "       '$7.10', '$7.77', '$12.58', '$7.40', '$6.05', '$13.30', '$8.60',\n",
       "       '$7.37', '$12.20', '$15.12', '$5.29', '$11.00', '$25.40', '$11.70',\n",
       "       '$25.80', '$8.30', '$9.90', '$7.90', '$10.98', '$14.60', '$23.50',\n",
       "       '$14.79', '$9.60', '$24.80', '$21.17', '$28.70', '$9.75', '$20.10',\n",
       "       '$9.70', '$6.10', '$27.40', '$11.50', '$18.40', '$7.80', '$18.67',\n",
       "       '$6.06', '$7.20', '$17.80', '$6.15', '$21.80', '$8.66', '$9.25',\n",
       "       '$22.09', '$21.90', '$9.10', '$15.29', '$10.06', '$9.40', '$10.10',\n",
       "       '$11.40', '$14.20', '$12.61', '$13.50', '$27.50', '$6.04',\n",
       "       '$45.20', '$17.52', '$26.00', '$26.99', '$30.90', '$10.90',\n",
       "       '$11.60', '$17.70', '$6.50', '$27.20', '$6.21', '$10.70', '$10.65',\n",
       "       '$8.00', '$5.81', '$3.60', '$20.60', '$19.60', '$23.75', '$13.97',\n",
       "       '$19.06', '$35.90', '$16.74', '$9.16', '$8.16', '$26.50', '$9.79',\n",
       "       '$14.19', '$3.32', '$24.70', '$8.70', '$8.06', '$8.20', '$6.61',\n",
       "       '$24.50', '$6.29', '$8.65', '$5.30', '$18.55', '$18.50', '$16.35',\n",
       "       '$1.40', '$9.20', '$8.10', '$7.01', '$19.10', '$9.87', '$7.14',\n",
       "       '$17.49', '$15.50', '$17.40', '$7.42', '$9.35', '$17.97', '$13.19',\n",
       "       '$15.16', '$9.72', '$12.13', '$18.06', '$8.39', '$6.36', '$1.41',\n",
       "       '$14.94', '$9.97', '$10.81', '$6.74', '$8.24', '$11.48', '$13.87',\n",
       "       '$24.60', '$3.95', '$11.17', '$18.71', '$3.81', '$12.74', '$10.61',\n",
       "       '$3.06', '$14.46', '$3.72', '$3.23', '$4.58', '$8.26', '$5.97',\n",
       "       '$11.96', '$9.00', '$8.80', '$6.94', '$7.09', '$8.38', '$14.84',\n",
       "       '$12.66', '$7.05', '$9.55', '$3.61', '$21.51', '$3.86', '$15.55',\n",
       "       '$9.52', '$11.94', '$19.81', '$9.32', '$17.36', '$21.10', '$6.26',\n",
       "       '$14.75', '$13.77', '$14.01', '$1.26', '$10.05', '$18.41', '$6.46',\n",
       "       '$1.80', '$7.15', '$15.57', '$8.34', '$17.13', '$13.23', '$11.06',\n",
       "       '$6.16', '$33.96', '$0.61'], dtype=object)"
      ]
     },
     "execution_count": 9,
     "metadata": {},
     "output_type": "execute_result"
    }
   ],
   "source": [
    "# Coluna 'preco', valores únicos\n",
    "df['preço'].unique()"
   ]
  },
  {
   "cell_type": "code",
   "execution_count": null,
   "metadata": {},
   "outputs": [
    {
     "name": "stdout",
     "output_type": "stream",
     "text": [
      "0       19.40\n",
      "1       14.90\n",
      "2        7.50\n",
      "3       12.06\n",
      "4       13.53\n",
      "        ...  \n",
      "1165      NaN\n",
      "1166    22.22\n",
      "1167     1.40\n",
      "1168    33.96\n",
      "1169     0.61\n",
      "Name: preço, Length: 1170, dtype: object\n"
     ]
    }
   ],
   "source": [
    "# Remover e substituir o símbolo '$' e 'From' da coluna 'preço'\n",
    "df['preço'] = df['preço'].str.replace('$', '').str.replace('From', '0')\n",
    "print(df['preço'])"
   ]
  },
  {
   "cell_type": "code",
   "execution_count": null,
   "metadata": {},
   "outputs": [
    {
     "data": {
      "text/plain": [
       "0    19.4\n",
       "1    14.9\n",
       "2     7.5\n",
       "Name: preço, dtype: float64"
      ]
     },
     "execution_count": 11,
     "metadata": {},
     "output_type": "execute_result"
    }
   ],
   "source": [
    "# Converter coluna 'preço' para tipo numérico\n",
    "df['preço'] = pd.to_numeric(df['preço'], errors='coerce')\n",
    "\n",
    "# Substituir NaN por 0  \n",
    "df['preço'] = df['preço'].fillna(0)\n",
    "df['preço'].head(3)"
   ]
  },
  {
   "cell_type": "code",
   "execution_count": 12,
   "metadata": {},
   "outputs": [
    {
     "data": {
      "text/plain": [
       "array(['$24.40', '$18.80', '$21.30', '$17.05', '$26.90', nan, '$21.20',\n",
       "       '$28.80', '$16.30', '$11.70', '$26.40', '$26.10', '$10.40',\n",
       "       '$18.00', '$24.90', '$13.00', '$20.10', '$19.60', '$16.60',\n",
       "       '$14.00', '$23.40', '$17.71', '$29.70', '$13.40', '$29.10',\n",
       "       '$16.50', '$14.40', '$9.10', '$31.60', '$29.40', '$20.20',\n",
       "       '$15.84', '$20.80', '$18.30', '$27.00', '$19.70', '$49.99',\n",
       "       '$25.10', '$20.70', '$45.99', '$18.60', '$15.80', '$18.10',\n",
       "       '$24.00', '$33.10', '$16.20', '$17.70', '$17.40', '$23.90',\n",
       "       '$26.89', '$22.10', '$22.44', '$50.60', '$26.30', '$23.43',\n",
       "       '$13.60', '$12.70', '$14.20', '$22.88', '$18.92', '$21.80',\n",
       "       '$16.39', '$29.81', '$21.50', '$16.10', '$21.89', '$13.53',\n",
       "       '$25.80', '$18.40', '$23.10', '$125.99', '$18.26', '$15.00',\n",
       "       '$13.50', '$29.04', '$16.90', '$24.80', '$28.27', '$20.40',\n",
       "       '$30.30', '$23.60', '$21.34', '$31.90', '$35.80', '$23.00',\n",
       "       '$15.70', '$23.50', '$19.30', '$19.47', '$27.94', '$319.07',\n",
       "       '$47.99', '$30.20', '$438.05', '$42.00', '$22.00', '$29.90',\n",
       "       '$39.99', '$23.70', '$20.90', '$26.07', '$24.20', '$129.99',\n",
       "       '$20.50', '$51.99', '$19.20', '$16.00', '$33.22', '$24.53',\n",
       "       '$21.00', '$59.99', '$19.90', '$50.99', '$24.30', '$21.23',\n",
       "       '$28.60', '$25.40', '$19.00', '$22.55', '$40.99', '$44.99',\n",
       "       '$17.80', '$27.20', '$24.31', '$19.10', '$23.20', '$18.70',\n",
       "       '$33.20', '$27.90', '$32.45', '$98.99', '$25.50', '$23.65',\n",
       "       '$22.50', '$28.05', '$167.65', '$22.90', '$676.00', '$39.89',\n",
       "       '$28.50', '$205.69', '$26.00', '$34.99', '$223.85', '$183.87',\n",
       "       '$24.70', '$189.28', '$69.99', '$22.80', '$60.00', '$227.14',\n",
       "       '$19.69', '$44.00', '$20.00', '$29.30', '$38.88', '$19.40',\n",
       "       '$106.00', '$22.77', '$27.28', '$27.70', '$22.22', '$35.20',\n",
       "       '$22.70', '$49.60', '$26.70', '$30.80', '$48.00', '$46.10',\n",
       "       '$28.00', '$8.90', '$13.20', '$32.10', '$26.20', '$24.60',\n",
       "       '$23.80', '$30.50', '$12.80', '$15.90', '$13.90', '$17.30',\n",
       "       '$18.90', '$15.30', '$18.50', '$20.68', '$22.98', '$14.70',\n",
       "       '$14.30', '$13.30', '$12.00', '$10.60', '$24.10', '$64.80',\n",
       "       '$26.50', '$32.20', '$14.52', '$17.10', '$25.60', '$32.40',\n",
       "       '$8.10', '$30.60', '$16.40', '$30.40', '$31.50', '$11.20',\n",
       "       '$49.10', '$16.89', '$9.00', '$11.00', '$12.20', '$9.30', '$13.10',\n",
       "       '$12.40', '$16.80', '$15.20', '$25.20', '$14.10', '$31.30',\n",
       "       '$15.60', '$28.30', '$25.00', '$22.40', '$31.80', '$10.80',\n",
       "       '$12.50', '$10.00', '$16.70', '$15.89', '$29.60', '$37.70',\n",
       "       '$21.60', '$28.10', '$32.00', '$36.10', '$12.60', '$52.60',\n",
       "       '$15.40', '$33.80', '$14.50', '$9.80', '$11.60', '$12.30',\n",
       "       '$13.80', '$27.40', '$46.99', '$11.40', '$17.20', '$14.80',\n",
       "       '$18.59', '$11.80', '$27.80', '$15.50', '$34.40', '$17.89',\n",
       "       '$56.90', '$9.20', '$11.90', '$26.60', '$18.99', '$38.60',\n",
       "       '$13.70', '$22.20', '$25.90', '$8.60', '$33.50', '$25.70',\n",
       "       '$10.10', '$4.80', '$44.90', '$27.60', '$29.20', '$27.50',\n",
       "       '$33.40', '$24.50', '$26.80', '$7.30', '$10.90', '$17.90',\n",
       "       '$18.20', '$25.30', '$10.30', '$48.99', '$17.60', '$21.40',\n",
       "       '$7.00', '$2.10', '$11.50', '$10.20', '$17.82', '$30.10', '$23.30',\n",
       "       '$30.90', '$21.70', '$7.50', '$21.90', '$12.10', '$31.00',\n",
       "       '$20.02', '$14.60', '$6.80', '$6.20', '$7.20', '$27.30', '$6.40',\n",
       "       '$31.10', '$17.00', '$27.39', '$15.10', '$28.70', '$6.10', '$2.60',\n",
       "       '$56.60'], dtype=object)"
      ]
     },
     "execution_count": 12,
     "metadata": {},
     "output_type": "execute_result"
    }
   ],
   "source": [
    "# Valores da coluna 'preço de marca', valores únicos\n",
    "df['preço de marca'].unique()"
   ]
  },
  {
   "cell_type": "code",
   "execution_count": null,
   "metadata": {},
   "outputs": [
    {
     "name": "stdout",
     "output_type": "stream",
     "text": [
      "0    24.40\n",
      "1    18.80\n",
      "2    18.80\n",
      "Name: preço de marca, dtype: object\n"
     ]
    }
   ],
   "source": [
    "# Remover e substituir o símbolo '$' da coluna 'preço de marca'\n",
    "df['preço de marca'] = df['preço de marca'].str.replace('$', '')\n",
    "print(df['preço de marca'].head(3))"
   ]
  },
  {
   "cell_type": "code",
   "execution_count": null,
   "metadata": {},
   "outputs": [
    {
     "name": "stdout",
     "output_type": "stream",
     "text": [
      "0    24.40\n",
      "1    18.80\n",
      "2    18.80\n",
      "3    21.30\n",
      "4    17.05\n",
      "Name: preço de marca, dtype: float64\n"
     ]
    }
   ],
   "source": [
    "# Substituir np.nan por 0 da coluna 'preço de marca'\n",
    "df['preço de marca'] = df['preço de marca'].fillna(0)\n",
    "\n",
    "# Converter para float\n",
    "df['preço de marca'] = df['preço de marca'].astype(float)\n",
    "print(df['preço de marca'].head())\n"
   ]
  },
  {
   "cell_type": "code",
   "execution_count": 16,
   "metadata": {},
   "outputs": [
    {
     "data": {
      "text/plain": [
       "array([': Khaki', nan, ': Purple', ': Grey', ': White', ': Beige',\n",
       "       ': Brown', ': Multicolor', ': Black', ': White and Blue', ': Blue',\n",
       "       ': Apricot', ': Rose Gold', ': Pink', ': Coffee Brown', ': Yellow',\n",
       "       ': Camel', ': Rust Brown', ': Dark Grey', ': White Card',\n",
       "       ': Blue and White', ': Dusty Pink', ': White Pink', ': Gold',\n",
       "       ': WHITE', ': Black Purple', ': White/Blue Leaf', ': Hot Pink',\n",
       "       ': Burnt Orange', ': Champagne', ': Clear', ': Orange', ': Red',\n",
       "       ': Green', ': Navy Blue', ': Silver', ': Yellow Blue',\n",
       "       ': dark brown', ': Black and White', ': Mint Green',\n",
       "       ': Pink Brown', ': Baby Pink', ': Black Khaki', ': Royal Blue',\n",
       "       ': Teal Blue', ': Blue Cloth', ': Chocolate Brown', ': Burgundy',\n",
       "       ': SILVER/GLITTER', ': black flip flops', ': Green Shiny Leather',\n",
       "       ': Medium Cool Black', ': Red Violet', ': Violet Purple',\n",
       "       ': Brown and White', ': Dusty Purple', ': Leopard Print',\n",
       "       ': Red and White', ': Army Green', ': Mauve Purple'], dtype=object)"
      ]
     },
     "execution_count": 16,
     "metadata": {},
     "output_type": "execute_result"
    }
   ],
   "source": [
    "# Coluna 'cor', valores únicos\n",
    "df['cor'].unique()"
   ]
  },
  {
   "cell_type": "code",
   "execution_count": null,
   "metadata": {},
   "outputs": [
    {
     "name": "stdout",
     "output_type": "stream",
     "text": [
      "0      Khaki\n",
      "1        nan\n",
      "2        nan\n",
      "3     Purple\n",
      "4       Grey\n",
      "Name: cor, dtype: object\n"
     ]
    }
   ],
   "source": [
    "# Removendo ':' da coluna 'cor'\n",
    "df['cor'] = df['cor'].str.strip(\":\").astype(str)\n",
    "print(df['cor'].head(5))"
   ]
  },
  {
   "cell_type": "code",
   "execution_count": 18,
   "metadata": {},
   "outputs": [
    {
     "name": "stdout",
     "output_type": "stream",
     "text": [
      "0     Khaki\n",
      "1         0\n",
      "2         0\n",
      "Name: cor, dtype: object\n"
     ]
    }
   ],
   "source": [
    "# Substituir 'nan' por np.nan da coluna 'cor'\n",
    "df.replace({'cor': 'nan'}, np.nan, inplace=True)\n",
    "\n",
    "# Substituir np.nan por 0\n",
    "df.fillna({'cor': 0}, inplace=True)\n",
    "print(df['cor'].head(3))"
   ]
  },
  {
   "cell_type": "code",
   "execution_count": 19,
   "metadata": {},
   "outputs": [
    {
     "data": {
      "text/plain": [
       "array(['Womens Shoes', 'Limeiya Factory', 'Dawanfu', nan, 'liyuyu',\n",
       "       'Jessy Well', 'WHC-', 'Rlyza', 'SHEIN Haute', 'Eley'], dtype=object)"
      ]
     },
     "execution_count": 19,
     "metadata": {},
     "output_type": "execute_result"
    }
   ],
   "source": [
    "# Coluna 'vendedor', valores únicos\n",
    "df['vendedor'].unique()"
   ]
  },
  {
   "cell_type": "code",
   "execution_count": 19,
   "metadata": {},
   "outputs": [
    {
     "name": "stdout",
     "output_type": "stream",
     "text": [
      "0       Womens Shoes\n",
      "1    Limeiya Factory\n",
      "2            Dawanfu\n",
      "Name: vendedor, dtype: object\n"
     ]
    }
   ],
   "source": [
    "# Substituindo valores da coluna 'vendedor'\n",
    "df.replace({'vendedor': 'nan'}, np.nan, inplace=True)\n",
    "\n",
    "# Substituir np.nan por 0\n",
    "df.fillna({'vendedor': 0}, inplace=True)\n",
    "\n",
    "# Exibir\n",
    "print(df['vendedor'].head(3))"
   ]
  },
  {
   "cell_type": "code",
   "execution_count": 20,
   "metadata": {},
   "outputs": [
    {
     "data": {
      "text/plain": [
       "array(['(77 Reviews)', nan, '(66 Reviews)', '(41 Reviews)',\n",
       "       '(100+ Reviews)', '(500+ Reviews)', '(15 Reviews)', '(36 Reviews)',\n",
       "       '(93 Reviews)', '(1000+ Reviews)', '(55 Reviews)', '(42 Reviews)',\n",
       "       '(45 Reviews)', '(88 Reviews)', '(53 Reviews)', '(23 Reviews)',\n",
       "       '(6 Reviews)', '(5 Reviews)', '(9 Reviews)', '(33 Reviews)',\n",
       "       '(14 Reviews)', '(18 Reviews)', '(95 Reviews)', '(4 Reviews)',\n",
       "       '(38 Reviews)', '(16 Reviews)', '(1 Reviews)', '(44 Reviews)',\n",
       "       '(86 Reviews)', '(91 Reviews)', '(17 Reviews)', '(37 Reviews)',\n",
       "       '(3 Reviews)', '(10 Reviews)', '(8 Reviews)', '(7 Reviews)',\n",
       "       '(78 Reviews)', '(2 Reviews)', '(83 Reviews)', '(70 Reviews)',\n",
       "       '(11 Reviews)', '(19 Reviews)', '(25 Reviews)', '(40 Reviews)',\n",
       "       '(51 Reviews)', '(22 Reviews)', '(24 Reviews)', '(69 Reviews)',\n",
       "       '(92 Reviews)', '(58 Reviews)', '(28 Reviews)', '(59 Reviews)',\n",
       "       '(67 Reviews)', '(31 Reviews)', '(54 Reviews)', '(87 Reviews)',\n",
       "       '(68 Reviews)', '(30 Reviews)', '(52 Reviews)', '(13 Reviews)',\n",
       "       '(20 Reviews)', '(35 Reviews)', '(98 Reviews)', '(49 Reviews)',\n",
       "       '(65 Reviews)', '(80 Reviews)', '(73 Reviews)', '(43 Reviews)',\n",
       "       '(85 Reviews)', '(74 Reviews)', '(48 Reviews)', '(26 Reviews)',\n",
       "       '(32 Reviews)', '(82 Reviews)', '(94 Reviews)', '(61 Reviews)',\n",
       "       '(39 Reviews)', '(29 Reviews)', '(27 Reviews)', '(12 Reviews)',\n",
       "       '(57 Reviews)', '(34 Reviews)', '(81 Reviews)', '(21 Reviews)',\n",
       "       '(56 Reviews)', '(50 Reviews)', '(96 Reviews)', '(89 Reviews)'],\n",
       "      dtype=object)"
      ]
     },
     "execution_count": 20,
     "metadata": {},
     "output_type": "execute_result"
    }
   ],
   "source": [
    "# Coluna 'contagem comentários', valores únicos\n",
    "df['comentários'].unique()"
   ]
  },
  {
   "cell_type": "code",
   "execution_count": null,
   "metadata": {},
   "outputs": [
    {
     "name": "stdout",
     "output_type": "stream",
     "text": [
      "0    77 \n",
      "1    NaN\n",
      "2    66 \n",
      "Name: comentários, dtype: object\n"
     ]
    }
   ],
   "source": [
    "# Remover os símbolos coluna 'comentários': '(', ')', '+', 'Reviews' \n",
    "df['comentários'] = df['comentários'].str.replace('(', '').str.replace(')', '').str.replace('+', '').str.replace('Reviews', '')\n",
    "print(df['comentários'].head(3))"
   ]
  },
  {
   "cell_type": "code",
   "execution_count": 22,
   "metadata": {},
   "outputs": [
    {
     "name": "stdout",
     "output_type": "stream",
     "text": [
      "0    77 \n",
      "1      0\n",
      "2    66 \n",
      "Name: comentários, dtype: object\n"
     ]
    }
   ],
   "source": [
    "# Substituindo valores da coluna 'comentários'\n",
    "df.replace({'comentários': 'nan'}, np.nan, inplace=True)\n",
    "\n",
    "# Substituir np.nan por 0\n",
    "df.fillna({'comentários': 0}, inplace=True)\n",
    "\n",
    "# Exibir\n",
    "print(df['comentários'].head(3))"
   ]
  },
  {
   "cell_type": "code",
   "execution_count": null,
   "metadata": {},
   "outputs": [],
   "source": [
    "# Transformar a coluna 'comentários' tipo numérico\n",
    "df['comentários'] = pd.to_numeric(df['comentários'], errors='coerce')"
   ]
  },
  {
   "cell_type": "markdown",
   "metadata": {},
   "source": [
    "Extraindo as informações da base de dados"
   ]
  },
  {
   "cell_type": "code",
   "execution_count": 25,
   "metadata": {},
   "outputs": [
    {
     "name": "stdout",
     "output_type": "stream",
     "text": [
      "Top 5 dos maiores preços:\n",
      "341    247.50\n",
      "137    231.32\n",
      "269    200.19\n",
      "272    169.68\n",
      "254    119.90\n",
      "Name: preço, dtype: float64\n"
     ]
    }
   ],
   "source": [
    "# Top 5 dos preços\n",
    "top5 = df['preço'].nlargest(5)\n",
    "print(f'Top 5 dos maiores preços:\\n{top5}')"
   ]
  },
  {
   "cell_type": "code",
   "execution_count": 26,
   "metadata": {},
   "outputs": [
    {
     "name": "stdout",
     "output_type": "stream",
     "text": [
      "Top 5 dos menores preços:\n",
      "1169    0.61\n",
      "1134    1.26\n",
      "876     1.40\n",
      "1167    1.40\n",
      "979     1.41\n",
      "Name: preço, dtype: float64\n"
     ]
    }
   ],
   "source": [
    "# Menores preços top 5\n",
    "nao_zero = df[df['preço'] != 0]['preço']\n",
    "menores_precos = nao_zero.nsmallest(5)\n",
    "print(f'Top 5 dos menores preços:\\n{menores_precos}')"
   ]
  },
  {
   "cell_type": "code",
   "execution_count": 27,
   "metadata": {},
   "outputs": [
    {
     "name": "stdout",
     "output_type": "stream",
     "text": [
      "Média de preços: 17.303537263626254\n"
     ]
    }
   ],
   "source": [
    "# Média de 'preco'\n",
    "media = df[df['preço'] != 0]['preço'].mean()\n",
    "print(f'Média de preços: {media}')"
   ]
  },
  {
   "cell_type": "code",
   "execution_count": 28,
   "metadata": {},
   "outputs": [
    {
     "name": "stdout",
     "output_type": "stream",
     "text": [
      "Top 5 dos preços de marca:\n",
      "255    676.00\n",
      "144    438.05\n",
      "137    319.07\n",
      "276    227.14\n",
      "269    223.85\n",
      "Name: preço de marca, dtype: float64\n"
     ]
    }
   ],
   "source": [
    "# Top 5 dos maiores preços de marca\n",
    "top5 = df['preço de marca'].nlargest(5)\n",
    "print(f'Top 5 dos preços de marca:\\n{top5}')"
   ]
  },
  {
   "cell_type": "code",
   "execution_count": 29,
   "metadata": {},
   "outputs": [
    {
     "name": "stdout",
     "output_type": "stream",
     "text": [
      "Top 5 dos menores preços de marca:\n",
      "876     2.1\n",
      "1154    2.6\n",
      "737     4.8\n",
      "1134    6.1\n",
      "1050    6.2\n",
      "Name: preço de marca, dtype: float64\n"
     ]
    }
   ],
   "source": [
    "# Top 5 dos menores preços de marca\n",
    "nao_zero = df[df['preço de marca'] != 0]['preço de marca'].drop_duplicates()\n",
    "menores_precos = nao_zero.nsmallest(5)\n",
    "print(f'Top 5 dos menores preços de marca:\\n{menores_precos}')"
   ]
  },
  {
   "cell_type": "code",
   "execution_count": 30,
   "metadata": {},
   "outputs": [
    {
     "name": "stdout",
     "output_type": "stream",
     "text": [
      "Média de preços de marca: 25.392143671607748\n"
     ]
    }
   ],
   "source": [
    "# Média de 'preco por marca'\n",
    "media_marca = df[df['preço de marca'] != 0]['preço de marca'].mean()\n",
    "print(f'Média de preços de marca: {media_marca}')"
   ]
  },
  {
   "cell_type": "code",
   "execution_count": 31,
   "metadata": {},
   "outputs": [
    {
     "name": "stdout",
     "output_type": "stream",
     "text": [
      "59 cores\n"
     ]
    }
   ],
   "source": [
    "# Contagem de valores únicos de 'cor', excluindo o valor 0\n",
    "count_cor = df[df['cor'] != 0]['cor'].nunique()\n",
    "\n",
    "print(f'{count_cor} cores')"
   ]
  },
  {
   "cell_type": "code",
   "execution_count": 32,
   "metadata": {},
   "outputs": [
    {
     "name": "stdout",
     "output_type": "stream",
     "text": [
      "O maior preço é 48.8 e a cor correspondente é Apricot.\n"
     ]
    }
   ],
   "source": [
    "# Filtrando para preços diferentes de 0 e cores diferentes de 0\n",
    "df_filtrado = df[(df['preço'] != 0) & (df['cor'] != 0)]\n",
    "\n",
    "# Verificando se o DataFrame filtrado não está vazio\n",
    "if not df_filtrado.empty:\n",
    "    # Encontrar o índice do maior preço\n",
    "    indice_maior_preco = df_filtrado['preço'].idxmax()\n",
    "\n",
    "    # Obter o maior preço\n",
    "    maior_preco = df_filtrado.loc[indice_maior_preco, 'preço']\n",
    "\n",
    "    # Obter a cor correspondente\n",
    "    cor_maior_preco = df_filtrado.loc[indice_maior_preco, 'cor']\n",
    "\n",
    "    print(f'O maior preço é {maior_preco} e a cor correspondente é{cor_maior_preco}.')\n",
    "else:\n",
    "    print(\"Não há preços e cores válidos no DataFrame.\")\n"
   ]
  },
  {
   "cell_type": "code",
   "execution_count": 74,
   "metadata": {},
   "outputs": [
    {
     "name": "stdout",
     "output_type": "stream",
     "text": [
      "Top 3 mais vendidos:\n",
      "1º lugar: A cor  Black teve 190 vendas. Preço: R$10.50\n",
      "2º lugar: A cor  White teve 182 vendas. Preço: R$21.30\n",
      "3º lugar: A cor  Beige teve 94 vendas. Preço: R$14.90\n"
     ]
    }
   ],
   "source": [
    "# Filtrar as linhas diferente de \"0\"\n",
    "cor_diferente_0 = df[df['cor'] != 0]\n",
    "\n",
    "# Contar a quantidade de vendas por cor e pegar as 3 cores mais vendidas\n",
    "top_3_cores = cor_diferente_0['cor'].value_counts().head(3)\n",
    "\n",
    "# Criar uma lista para armazenar os resultados\n",
    "top_3_resultados = []\n",
    "\n",
    "# Iterar pelas 3 cores mais vendidas para obter a quantidade e o preço\n",
    "for cor, quantidade in top_3_cores.items():\n",
    "    # Filtrar o DataFrame para obter as linhas com a cor específica\n",
    "    dados_cor = cor_diferente_0[cor_diferente_0['cor'] == cor]\n",
    "    \n",
    "    # Obter o preço do primeiro item com essa cor\n",
    "    preco = dados_cor['preço'].iloc[0]\n",
    "    \n",
    "    # Adicionar o resultado à lista\n",
    "    top_3_resultados.append((cor, quantidade, preco))\n",
    "\n",
    "print('Top 3 mais vendidos:')\n",
    "# Exibindo o resultado\n",
    "for i, (cor, quantidade, preco) in enumerate(top_3_resultados, start=1):\n",
    "    print(f\"{i}º lugar: A cor {cor} teve {quantidade} vendas. Preço: R${preco:.2f}\")\n"
   ]
  },
  {
   "cell_type": "code",
   "execution_count": null,
   "metadata": {},
   "outputs": [
    {
     "name": "stdout",
     "output_type": "stream",
     "text": [
      "1153 calçado\n"
     ]
    }
   ],
   "source": [
    "# Contagem de valores únicos de 'nome', excluindo o valor 0\n",
    "count_cor = df[df['descrição calçado'] != 0]['descrição calçado'].nunique()\n",
    "\n",
    "# Exibindo o resultado\n",
    "print(f'{count_cor} calçado')"
   ]
  },
  {
   "cell_type": "code",
   "execution_count": null,
   "metadata": {},
   "outputs": [
    {
     "name": "stdout",
     "output_type": "stream",
     "text": [
      "Calçados mais frequentes apareceram 3 vezes:\n",
      "- 'Women Minimalist Lace-up Front Skate Shoes, Sporty Sneakers'\n",
      "- 'Women Minimalist Chunky Heeled Mule Sandals, Fashion Summer Heeled Sandals'\n",
      "- 'Women's Casual Sports Shoes'\n",
      "- 'Women's Flat Sandals'\n"
     ]
    }
   ],
   "source": [
    "# Contar a frequência de cada nome\n",
    "frequencia_comentarios = df['descrição calçado'].value_counts()\n",
    "\n",
    "# Encontrar a contagem máxima\n",
    "quantidade_maior_comentario = frequencia_comentarios.max()\n",
    "\n",
    "# Encontrar todos os nomes que têm a contagem máxima\n",
    "comentarios_maximos = frequencia_comentarios[frequencia_comentarios == quantidade_maior_comentario]\n",
    "\n",
    "# Exibindo o resultado\n",
    "print(f\"Calçados mais frequentes apareceram {quantidade_maior_comentario} vezes:\")\n",
    "for comentario in comentarios_maximos.index:\n",
    "    print(f\"- '{comentario}'\")"
   ]
  },
  {
   "cell_type": "code",
   "execution_count": null,
   "metadata": {},
   "outputs": [
    {
     "name": "stdout",
     "output_type": "stream",
     "text": [
      "Não há combinações de calçado e cor com mais de uma venda.\n"
     ]
    }
   ],
   "source": [
    "# Filtrar as linhas onde a cor é diferente de 0\n",
    "cor_diferente_0 = df[df['cor'] != 0]\n",
    "\n",
    "# Agrupar por descrição do calçado e cor e contar a quantidade de vendas (usando .size())\n",
    "cor_descricao_comb = cor_diferente_0.groupby(['descrição calçado', 'cor']).size().reset_index(name='quantidade')\n",
    "\n",
    "# Filtrar as combinações onde a quantidade de vendas é maior que 1\n",
    "cor_descricao_comb_maior_que_1 = cor_descricao_comb[cor_descricao_comb['quantidade'] > 1]\n",
    "\n",
    "# Verificar se há combinações que atendem à condição e encontrar a mais vendida\n",
    "if not cor_descricao_comb_maior_que_1.empty:\n",
    "    mais_vendido = cor_descricao_comb_maior_que_1.loc[cor_descricao_comb_maior_que_1['quantidade'].idxmax()]\n",
    "\n",
    "    # Exibir o resultado\n",
    "    print(f\"A descrição de calçado mais vendida foi '{mais_vendido['descrição calçado']}' na cor '{mais_vendido['cor']}' com {mais_vendido['quantidade']} vendas.\")\n",
    "else:\n",
    "    print(\"Não há combinações de calçado e cor com mais de uma venda.\")\n"
   ]
  },
  {
   "cell_type": "code",
   "execution_count": 40,
   "metadata": {},
   "outputs": [
    {
     "data": {
      "text/plain": [
       "array(['Womens Shoes', 'Limeiya Factory', 'Dawanfu', 0, 'liyuyu',\n",
       "       'Jessy Well', 'WHC-', 'Rlyza', 'SHEIN Haute', 'Eley'], dtype=object)"
      ]
     },
     "execution_count": 40,
     "metadata": {},
     "output_type": "execute_result"
    }
   ],
   "source": [
    "# Valores únicos coluna 'vendedor'\n",
    "df['vendedor'].unique()"
   ]
  },
  {
   "cell_type": "code",
   "execution_count": 83,
   "metadata": {},
   "outputs": [
    {
     "name": "stdout",
     "output_type": "stream",
     "text": [
      "9 vendedores\n"
     ]
    }
   ],
   "source": [
    "# Filtrar os vendedores diferentes de '0' e contar quantos são únicos\n",
    "quantidade_vendedores_diferentes_de_zero = df[df['vendedor'] != 0]['vendedor'].nunique()\n",
    "\n",
    "# Exibindo o resultado\n",
    "print(f'{quantidade_vendedores_diferentes_de_zero} vendedores')"
   ]
  },
  {
   "cell_type": "code",
   "execution_count": 84,
   "metadata": {},
   "outputs": [
    {
     "name": "stdout",
     "output_type": "stream",
     "text": [
      "Não há vendedores com frequência maior que 1.\n"
     ]
    }
   ],
   "source": [
    "# Filtrar os dados com vendedor diferente de 0 e descrição de calçado diferente de 0\n",
    "df_filtro = df[(df['vendedor'] != 0) & (df['descrição calçado'] != 0)]\n",
    "\n",
    "# Contar a frequência de cada descrição de calçado para cada vendedor\n",
    "frequencia = df_filtro['vendedor'].value_counts()\n",
    "\n",
    "# Filtrar apenas vendedores com frequência maior que 1\n",
    "frequencia_maior_que_1 = frequencia[frequencia > 1]\n",
    "\n",
    "# Verificar se há vendedores com frequência maior que 1\n",
    "if frequencia_maior_que_1.empty:\n",
    "    print(\"Não há vendedores com frequência maior que 1.\")\n",
    "else:\n",
    "    # Encontrar o vendedor com a maior frequência\n",
    "    vendedor_maior_frequencia = frequencia_maior_que_1.idxmax()  \n",
    "    quantidade_maior_frequencia = frequencia_maior_que_1.max()  \n",
    "\n",
    "    # Exibindo o resultado\n",
    "    print(f\"O vendedor com a maior frequência de descrições de calçado (maior que 1) é '{vendedor_maior_frequencia}' com {quantidade_maior_frequencia} ocorrências.\")"
   ]
  },
  {
   "cell_type": "code",
   "execution_count": 85,
   "metadata": {},
   "outputs": [
    {
     "name": "stdout",
     "output_type": "stream",
     "text": [
      "Lista de preços dos vendedores:\n",
      "            vendedor  preço\n",
      "12            liyuyu  21.00\n",
      "0       Womens Shoes  19.40\n",
      "727      SHEIN Haute  18.40\n",
      "161       Jessy Well  17.30\n",
      "1    Limeiya Factory  14.90\n",
      "688            Rlyza   9.40\n",
      "2            Dawanfu   7.50\n",
      "867             Eley   5.30\n",
      "444             WHC-   4.85\n"
     ]
    }
   ],
   "source": [
    "# Filtrando cores e preços diferentes de 0\n",
    "vendedor_precos = df[(df['vendedor'] != 0) & (df['preço'] != 0)][['vendedor', 'preço']].drop_duplicates()\n",
    "\n",
    "# Ordenando primeiro por \"vendedor\" e depois por \"preço\" em ordem crescente\n",
    "vendedor_precos = vendedor_precos.sort_values(by=['preço'], ascending=[False])\n",
    "\n",
    "# Exibindo o resultado\n",
    "print(f'Lista de preços dos vendedores:\\n{vendedor_precos}')"
   ]
  },
  {
   "cell_type": "code",
   "execution_count": 86,
   "metadata": {},
   "outputs": [
    {
     "name": "stdout",
     "output_type": "stream",
     "text": [
      "Lista de preços de marca dos vendedores:\n",
      "            vendedor  preço de marca\n",
      "12            liyuyu            26.4\n",
      "0       Womens Shoes            24.4\n",
      "727      SHEIN Haute            23.0\n",
      "161       Jessy Well            21.8\n",
      "1    Limeiya Factory            18.8\n",
      "2            Dawanfu            18.8\n",
      "688            Rlyza            11.8\n",
      "444             WHC-             8.1\n",
      "867             Eley             7.0\n"
     ]
    }
   ],
   "source": [
    "# Filtrando vendedor e preços de marca diferentes de 0\n",
    "vendedor_precos_marca = df[(df['vendedor'] != 0) & (df['preço de marca'] != 0)][['vendedor', 'preço de marca']].drop_duplicates()\n",
    "\n",
    "# Ordenando primeiro por \"vendedor\" e depois por \"preço\" em ordem crescente\n",
    "vendedor_precos_marca = vendedor_precos_marca.sort_values(by=['preço de marca'], ascending=[False])\n",
    "\n",
    "# Exibindo o resultado\n",
    "print(f'Lista de preços de marca dos vendedores:\\n{vendedor_precos_marca}')"
   ]
  },
  {
   "cell_type": "code",
   "execution_count": 87,
   "metadata": {},
   "outputs": [
    {
     "name": "stdout",
     "output_type": "stream",
     "text": [
      "Lista completa dos vendedores:\n",
      "          vendedor  preço         vendedor  preço de marca\n",
      "0           liyuyu  21.00           liyuyu            26.4\n",
      "1     Womens Shoes  19.40     Womens Shoes            24.4\n",
      "2      SHEIN Haute  18.40      SHEIN Haute            23.0\n",
      "3       Jessy Well  17.30       Jessy Well            21.8\n",
      "4  Limeiya Factory  14.90  Limeiya Factory            18.8\n",
      "5            Rlyza   9.40          Dawanfu            18.8\n",
      "6          Dawanfu   7.50            Rlyza            11.8\n",
      "7             Eley   5.30             WHC-             8.1\n",
      "8             WHC-   4.85             Eley             7.0\n"
     ]
    }
   ],
   "source": [
    "# Ordenar a tabela de preços em ordem decrescente\n",
    "vendedor_precos_marca = vendedor_precos_marca.sort_values(by='preço de marca', ascending=False)\n",
    "\n",
    "# Concatenar as duas tabelas lado a lado\n",
    "resultado = pd.concat([vendedor_precos.reset_index(drop=True), vendedor_precos_marca.reset_index(drop=True)], axis=1)\n",
    "\n",
    "# Exibindo o resultado\n",
    "print(f'Lista completa dos vendedores:\\n{resultado}')"
   ]
  },
  {
   "cell_type": "code",
   "execution_count": 88,
   "metadata": {},
   "outputs": [
    {
     "name": "stdout",
     "output_type": "stream",
     "text": [
      "3 maiores comentários de cada vendedor:\n",
      "           vendedor   preço  comentários\n",
      "0                 0  247.50            0\n",
      "1                 0  231.32            0\n",
      "2                 0  200.19            0\n",
      "3           Dawanfu    7.50           66\n",
      "4              Eley    5.30         1000\n",
      "5        Jessy Well   17.30          100\n",
      "6   Limeiya Factory   14.90            0\n",
      "7             Rlyza    9.40         1000\n",
      "8       SHEIN Haute   18.40          500\n",
      "9              WHC-    4.85           35\n",
      "10     Womens Shoes   19.40           77\n",
      "11           liyuyu   21.00         1000\n"
     ]
    },
    {
     "name": "stderr",
     "output_type": "stream",
     "text": [
      "C:\\Users\\Usuário\\AppData\\Local\\Temp\\ipykernel_3912\\3566073511.py:5: DeprecationWarning: DataFrameGroupBy.apply operated on the grouping columns. This behavior is deprecated, and in a future version of pandas the grouping columns will be excluded from the operation. Either pass `include_groups=False` to exclude the groupings or explicitly select the grouping columns after groupby to silence this warning.\n",
      "  maiores_precos = quantidade_por_vendedor_preco.groupby('vendedor').apply(lambda x: x.nlargest(3, 'preço')).reset_index(drop=True)\n"
     ]
    }
   ],
   "source": [
    "# Agrupar por vendedor e preço, somando os comentários\n",
    "quantidade_por_vendedor_preco = df.groupby(['vendedor', 'preço'])['comentários'].sum().reset_index()\n",
    "\n",
    "# Encontrar os 3 maiores preços para cada vendedor\n",
    "maiores_precos = quantidade_por_vendedor_preco.groupby('vendedor').apply(lambda x: x.nlargest(3, 'preço')).reset_index(drop=True)\n",
    "\n",
    "# Exibindo o resultado\n",
    "print(f'3 maiores comentários de cada vendedor:\\n{maiores_precos}')\n"
   ]
  },
  {
   "cell_type": "code",
   "execution_count": 89,
   "metadata": {},
   "outputs": [
    {
     "name": "stdout",
     "output_type": "stream",
     "text": [
      "Quantidade de comentários de cada vendedor:\n"
     ]
    },
    {
     "data": {
      "text/html": [
       "<div>\n",
       "<style scoped>\n",
       "    .dataframe tbody tr th:only-of-type {\n",
       "        vertical-align: middle;\n",
       "    }\n",
       "\n",
       "    .dataframe tbody tr th {\n",
       "        vertical-align: top;\n",
       "    }\n",
       "\n",
       "    .dataframe thead th {\n",
       "        text-align: right;\n",
       "    }\n",
       "</style>\n",
       "<table border=\"1\" class=\"dataframe\">\n",
       "  <thead>\n",
       "    <tr style=\"text-align: right;\">\n",
       "      <th></th>\n",
       "      <th>vendedor</th>\n",
       "      <th>comentários</th>\n",
       "    </tr>\n",
       "  </thead>\n",
       "  <tbody>\n",
       "    <tr>\n",
       "      <th>12</th>\n",
       "      <td>liyuyu</td>\n",
       "      <td>1000</td>\n",
       "    </tr>\n",
       "    <tr>\n",
       "      <th>688</th>\n",
       "      <td>Rlyza</td>\n",
       "      <td>1000</td>\n",
       "    </tr>\n",
       "    <tr>\n",
       "      <th>867</th>\n",
       "      <td>Eley</td>\n",
       "      <td>1000</td>\n",
       "    </tr>\n",
       "    <tr>\n",
       "      <th>727</th>\n",
       "      <td>SHEIN Haute</td>\n",
       "      <td>500</td>\n",
       "    </tr>\n",
       "    <tr>\n",
       "      <th>161</th>\n",
       "      <td>Jessy Well</td>\n",
       "      <td>100</td>\n",
       "    </tr>\n",
       "    <tr>\n",
       "      <th>0</th>\n",
       "      <td>Womens Shoes</td>\n",
       "      <td>77</td>\n",
       "    </tr>\n",
       "    <tr>\n",
       "      <th>2</th>\n",
       "      <td>Dawanfu</td>\n",
       "      <td>66</td>\n",
       "    </tr>\n",
       "    <tr>\n",
       "      <th>444</th>\n",
       "      <td>WHC-</td>\n",
       "      <td>35</td>\n",
       "    </tr>\n",
       "  </tbody>\n",
       "</table>\n",
       "</div>"
      ],
      "text/plain": [
       "         vendedor  comentários\n",
       "12         liyuyu         1000\n",
       "688         Rlyza         1000\n",
       "867          Eley         1000\n",
       "727   SHEIN Haute          500\n",
       "161    Jessy Well          100\n",
       "0    Womens Shoes           77\n",
       "2         Dawanfu           66\n",
       "444          WHC-           35"
      ]
     },
     "execution_count": 89,
     "metadata": {},
     "output_type": "execute_result"
    }
   ],
   "source": [
    "# Filtrando vendedores diferentes de 0 e contagem de comentários maior que 0\n",
    "vendedor_comentario = df[(df['vendedor'] != 0) & (df['comentários'] > 0)][['vendedor', 'comentários']].drop_duplicates()\n",
    "\n",
    "# Ordenando pela contagem de comentários em ordem decrescente\n",
    "vendedor_comentario = vendedor_comentario.sort_values(by=['comentários'], ascending=False)\n",
    "\n",
    "print('Quantidade de comentários de cada vendedor:')\n",
    "# Exibindo o resultado\n",
    "vendedor_comentario"
   ]
  },
  {
   "cell_type": "code",
   "execution_count": 90,
   "metadata": {},
   "outputs": [
    {
     "name": "stdout",
     "output_type": "stream",
     "text": [
      "Vendedores com a maior contagem de comentários:\n",
      "O vendedor é Eley, com 1000 comentários em vendas.\n",
      "O vendedor é Rlyza, com 1000 comentários em vendas.\n",
      "O vendedor é liyuyu, com 1000 comentários em vendas.\n"
     ]
    }
   ],
   "source": [
    "# Filtrar as linhas diferentes de \"0\"\n",
    "vendedor_diferent_0 = df[df['vendedor'] != 0]\n",
    "\n",
    "# Agrupar vendedor com a soma da contagem de comentários\n",
    "vendas_por_vendedor = vendedor_diferent_0.groupby('vendedor')['comentários'].sum().reset_index()\n",
    "\n",
    "# Encontrar a contagem máxima de comentários\n",
    "quantidade_maxima = vendas_por_vendedor['comentários'].max()\n",
    "\n",
    "# Filtrar vendedores com a contagem máxima\n",
    "vendedores_com_maxima = vendas_por_vendedor[vendas_por_vendedor['comentários'] == quantidade_maxima]\n",
    "\n",
    "# Exibir o maior vendedor (ou vendedores, se houver mais de um)\n",
    "print(\"Vendedores com a maior contagem de comentários:\")\n",
    "for index, row in vendedores_com_maxima.iterrows():\n",
    "    print(f\"O vendedor é {row['vendedor']}, com {row['comentários']} comentários em vendas.\")"
   ]
  },
  {
   "cell_type": "code",
   "execution_count": 91,
   "metadata": {},
   "outputs": [
    {
     "data": {
      "image/png": "[encoded data removed]",
      "text/plain": [
       "<Figure size 640x480 with 1 Axes>"
      ]
     },
     "metadata": {},
     "output_type": "display_data"
    }
   ],
   "source": [
    "# Importando bibliotecas para construção do gráfico\n",
    "import seaborn as sns\n",
    "import matplotlib.pyplot as plt\n",
    "\n",
    "# Distribuição dos valores\n",
    "x = df['preço']\n",
    "y = df['comentários']\n",
    "\n",
    "# Ajustar a cor \n",
    "hue = df['preço']\n",
    "\n",
    "# Criar scatter plot com pontos coloridos\n",
    "sns.scatterplot(x=x, y=y, hue=hue)\n",
    "plt.xlabel('Preço')\n",
    "plt.ylabel('Comentários')\n",
    "plt.title('Relação de preços e comentáriso')\n",
    "plt.legend(title='Preço');"
   ]
  },
  {
   "cell_type": "code",
   "execution_count": 96,
   "metadata": {},
   "outputs": [
    {
     "name": "stdout",
     "output_type": "stream",
     "text": [
      "Quantidade de vendas com preço menor ou igual a R$20:  950\n",
      "Total de vendas com preço menor ou igual a R$20: R$ 19000\n",
      "\n",
      "Quantidade de vendas com preço maior ou igual a R$21:  176\n",
      "Total de vendas com preço maior ou igual a R$21: R$ 3696\n",
      "\n",
      "Quantidade de vendas com preço maior ou igual a R$61:  2\n",
      "Total de vendas com preço maior ou igual a R$61: R$ 122\n",
      "\n",
      "Quantidade de vendas com preço maior ou igual a R$151:  4\n",
      "Total de vendas com preço maior ou igual a R$151: R$ 604\n"
     ]
    }
   ],
   "source": [
    "# Filtrando por faixas de preço\n",
    "vendas_menor_20 = df[df['preço'] <= 20]\n",
    "vendas_acima_21 = df[(df['preço'] >= 21) & (df['preço'] <= 60)]\n",
    "vendas_acima_61 = df[(df['preço'] >= 61) & (df['preço'] <= 150)]\n",
    "vendas_acima_151 = df[df['preço'] >= 151]\n",
    "\n",
    "# Contando o número de vendidos\n",
    "quantidade_vendas_menor_20 = vendas_menor_20.shape[0]\n",
    "quantidade_vendas_acima_21 = vendas_acima_21.shape[0]\n",
    "quantidade_vendas_acima_61 = vendas_acima_61.shape[0]\n",
    "quantidade_vendas_acima_151 = vendas_acima_151.shape[0]\n",
    "\n",
    "\n",
    "# Quantidade total de vendas\n",
    "total_menor_20 = quantidade_vendas_menor_20* 20\n",
    "total_acima_21 = quantidade_vendas_acima_21 * 21\n",
    "total_acima_61 = quantidade_vendas_acima_61 * 61\n",
    "total_acima_151 = quantidade_vendas_acima_151 *151\n",
    "\n",
    "\n",
    "# Exibir o resultado\n",
    "print(\"Quantidade de vendas com preço menor ou igual a R$20: \", quantidade_vendas_menor_20)\n",
    "print(\"Total de vendas com preço menor ou igual a R$20: R$\", total_menor_20)\n",
    "\n",
    "print(\"\\nQuantidade de vendas com preço maior ou igual a R$21: \", quantidade_vendas_acima_21)\n",
    "print(\"Total de vendas com preço maior ou igual a R$21: R$\", total_acima_21)\n",
    "\n",
    "print(\"\\nQuantidade de vendas com preço maior ou igual a R$61: \", quantidade_vendas_acima_61)\n",
    "print(\"Total de vendas com preço maior ou igual a R$61: R$\", total_acima_61)\n",
    "\n",
    "print(\"\\nQuantidade de vendas com preço maior ou igual a R$151: \", quantidade_vendas_acima_151)\n",
    "print(\"Total de vendas com preço maior ou igual a R$151: R$\", total_acima_151)\n"
   ]
  },
  {
   "cell_type": "code",
   "execution_count": 97,
   "metadata": {},
   "outputs": [
    {
     "data": {
      "image/png": "[encoded data removed]",
      "text/plain": [
       "<Figure size 1400x600 with 2 Axes>"
      ]
     },
     "metadata": {},
     "output_type": "display_data"
    }
   ],
   "source": [
    "# Importando biblioreca para criar gráfico\n",
    "import matplotlib.pyplot as plt\n",
    "\n",
    "# Dados fornecidos\n",
    "x = [20, 21, 61, 151]  # Preços\n",
    "y1 = [950, 176, 2, 4]   # Quantidade\n",
    "y2 = [19000, 3696, 122, 604]  # Total de vendas\n",
    "\n",
    "# Criando os gráficos lado a lado\n",
    "fig, (ax1, ax2) = plt.subplots(1, 2, figsize=(14, 6))\n",
    "\n",
    "# Quantidade de cada preço\n",
    "ax1.bar(x, y1, color='teal')\n",
    "ax1.set_title('Quantidade de cada preço')\n",
    "ax1.set_xlabel('Preço')\n",
    "ax1.set_ylabel('Quantidade')\n",
    "ax1.grid(axis='y', linestyle='--')\n",
    "ax1.set_ylim(0, max(y1) + 100)\n",
    "\n",
    "# Adicionar os valores nas barras do primeiro gráfico\n",
    "for i in range(len(x)):\n",
    "    ax1.text(x[i], y1[i] + 10, str(y1[i]), ha='center', va='bottom')\n",
    "\n",
    "# Total de venda por preço\n",
    "ax2.bar(x, y2, color='orange')\n",
    "ax2.set_title('Total de venda por preço')\n",
    "ax2.set_xlabel('Preço')\n",
    "ax2.set_ylabel('Quantidade')\n",
    "ax2.grid(axis='y', linestyle='--')\n",
    "ax2.set_ylim(0, max(y2) + 1000)\n",
    "\n",
    "# Adicionar os valores nas barras do segundo gráfico\n",
    "for i in range(len(x)):\n",
    "    ax2.text(x[i], y2[i] + 10, str(y2[i]), ha='center', va='bottom')\n",
    "\n",
    "# Ajustar o layout\n",
    "plt.tight_layout();\n"
   ]
  },
  {
   "cell_type": "code",
   "execution_count": 98,
   "metadata": {},
   "outputs": [
    {
     "name": "stdout",
     "output_type": "stream",
     "text": [
      "Total de vendas: 23422\n"
     ]
    }
   ],
   "source": [
    "# Total de Vendas\n",
    "total_vendas = total_menor_20 + total_acima_21 + total_acima_61 + total_acima_151\n",
    "print(f'Total de vendas: {total_vendas}')"
   ]
  }
 ],
 "metadata": {
  "kernelspec": {
   "display_name": "Python 3",
   "language": "python",
   "name": "python3"
  },
  "language_info": {
   "codemirror_mode": {
    "name": "ipython",
    "version": 3
   },
   "file_extension": ".py",
   "mimetype": "text/x-python",
   "name": "python",
   "nbconvert_exporter": "python",
   "pygments_lexer": "ipython3",
   "version": "3.12.2"
  }
 },
 "nbformat": 4,
 "nbformat_minor": 2
}
